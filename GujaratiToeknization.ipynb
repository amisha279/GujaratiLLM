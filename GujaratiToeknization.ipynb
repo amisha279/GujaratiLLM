from indicnlp.tokenize import indic_tokenize

# Sample Gujarati text
gujarati_text = "આવા સંજોગોમાં, આપણે કઈ રીતે આગળ વધી શકીએ?"

# Tokenize the text
tokens = list(indic_tokenize.trivial_tokenize(gujarati_text))
print(tokens)
